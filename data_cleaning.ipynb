{
 "cells": [
  {
   "cell_type": "code",
   "execution_count": 1,
   "metadata": {},
   "outputs": [],
   "source": [
    "import pandas as pd"
   ]
  },
  {
   "cell_type": "code",
   "execution_count": 4,
   "metadata": {},
   "outputs": [],
   "source": [
    "df_historical_data = pd.read_csv('fifa_worldCup_matches.csv')\n",
    "df_fixture = pd.read_csv('fifa_worldcup_fixture.csv')"
   ]
  },
  {
   "cell_type": "markdown",
   "metadata": {},
   "source": [
    "## Cleaning data"
   ]
  },
  {
   "cell_type": "code",
   "execution_count": 5,
   "metadata": {},
   "outputs": [],
   "source": [
    "df_fixture['home']=df_fixture['home'].str.strip()\n",
    "df_fixture['away']=df_fixture['away'].str.strip()"
   ]
  },
  {
   "cell_type": "code",
   "execution_count": 8,
   "metadata": {},
   "outputs": [],
   "source": [
    "##df_fixture[df_fixture['home'].isnull()]\n",
    "df_fixture.dropna(inplace=True)"
   ]
  },
  {
   "cell_type": "code",
   "execution_count": 9,
   "metadata": {},
   "outputs": [],
   "source": [
    "##df_historical_data[df_historical_data['home'].isnull()]\n",
    "df_historical_data.dropna(inplace=True)"
   ]
  },
  {
   "cell_type": "code",
   "execution_count": 12,
   "metadata": {},
   "outputs": [],
   "source": [
    "df_historical_data.drop_duplicates(inplace=True)"
   ]
  },
  {
   "cell_type": "code",
   "execution_count": 11,
   "metadata": {},
   "outputs": [
    {
     "data": {
      "text/html": [
       "<div>\n",
       "<style scoped>\n",
       "    .dataframe tbody tr th:only-of-type {\n",
       "        vertical-align: middle;\n",
       "    }\n",
       "\n",
       "    .dataframe tbody tr th {\n",
       "        vertical-align: top;\n",
       "    }\n",
       "\n",
       "    .dataframe thead th {\n",
       "        text-align: right;\n",
       "    }\n",
       "</style>\n",
       "<table border=\"1\" class=\"dataframe\">\n",
       "  <thead>\n",
       "    <tr style=\"text-align: right;\">\n",
       "      <th></th>\n",
       "      <th>home</th>\n",
       "      <th>score</th>\n",
       "      <th>away</th>\n",
       "      <th>year</th>\n",
       "    </tr>\n",
       "  </thead>\n",
       "  <tbody>\n",
       "    <tr>\n",
       "      <th>0</th>\n",
       "      <td>France</td>\n",
       "      <td>4–1</td>\n",
       "      <td>Mexico</td>\n",
       "      <td>1930</td>\n",
       "    </tr>\n",
       "    <tr>\n",
       "      <th>8</th>\n",
       "      <td>Brazil</td>\n",
       "      <td>4–0</td>\n",
       "      <td>Bolivia</td>\n",
       "      <td>1930</td>\n",
       "    </tr>\n",
       "    <tr>\n",
       "      <th>1</th>\n",
       "      <td>Argentina</td>\n",
       "      <td>1–0</td>\n",
       "      <td>France</td>\n",
       "      <td>1930</td>\n",
       "    </tr>\n",
       "    <tr>\n",
       "      <th>2</th>\n",
       "      <td>Chile</td>\n",
       "      <td>3–0</td>\n",
       "      <td>Mexico</td>\n",
       "      <td>1930</td>\n",
       "    </tr>\n",
       "    <tr>\n",
       "      <th>3</th>\n",
       "      <td>Chile</td>\n",
       "      <td>1–0</td>\n",
       "      <td>France</td>\n",
       "      <td>1930</td>\n",
       "    </tr>\n",
       "    <tr>\n",
       "      <th>...</th>\n",
       "      <td>...</td>\n",
       "      <td>...</td>\n",
       "      <td>...</td>\n",
       "      <td>...</td>\n",
       "    </tr>\n",
       "    <tr>\n",
       "      <th>896</th>\n",
       "      <td>Russia</td>\n",
       "      <td>2–2 (a.e.t.)</td>\n",
       "      <td>Croatia</td>\n",
       "      <td>2018</td>\n",
       "    </tr>\n",
       "    <tr>\n",
       "      <th>897</th>\n",
       "      <td>France</td>\n",
       "      <td>1–0</td>\n",
       "      <td>Belgium</td>\n",
       "      <td>2018</td>\n",
       "    </tr>\n",
       "    <tr>\n",
       "      <th>869</th>\n",
       "      <td>South Korea</td>\n",
       "      <td>1–2</td>\n",
       "      <td>Mexico</td>\n",
       "      <td>2018</td>\n",
       "    </tr>\n",
       "    <tr>\n",
       "      <th>868</th>\n",
       "      <td>Sweden</td>\n",
       "      <td>1–0</td>\n",
       "      <td>South Korea</td>\n",
       "      <td>2018</td>\n",
       "    </tr>\n",
       "    <tr>\n",
       "      <th>900</th>\n",
       "      <td>France</td>\n",
       "      <td>4–2</td>\n",
       "      <td>Croatia</td>\n",
       "      <td>2018</td>\n",
       "    </tr>\n",
       "  </tbody>\n",
       "</table>\n",
       "<p>901 rows × 4 columns</p>\n",
       "</div>"
      ],
      "text/plain": [
       "             home         score          away  year\n",
       "0         France            4–1        Mexico  1930\n",
       "8         Brazil            4–0       Bolivia  1930\n",
       "1      Argentina            1–0        France  1930\n",
       "2          Chile            3–0        Mexico  1930\n",
       "3          Chile            1–0        France  1930\n",
       "..            ...           ...           ...   ...\n",
       "896       Russia   2–2 (a.e.t.)       Croatia  2018\n",
       "897       France            1–0       Belgium  2018\n",
       "869  South Korea            1–2        Mexico  2018\n",
       "868       Sweden            1–0   South Korea  2018\n",
       "900       France            4–2       Croatia  2018\n",
       "\n",
       "[901 rows x 4 columns]"
      ]
     },
     "execution_count": 11,
     "metadata": {},
     "output_type": "execute_result"
    }
   ],
   "source": [
    "df_historical_data.sort_values('year', inplace=True)\n",
    "df_historical_data"
   ]
  },
  {
   "cell_type": "code",
   "execution_count": 13,
   "metadata": {},
   "outputs": [
    {
     "data": {
      "text/html": [
       "<div>\n",
       "<style scoped>\n",
       "    .dataframe tbody tr th:only-of-type {\n",
       "        vertical-align: middle;\n",
       "    }\n",
       "\n",
       "    .dataframe tbody tr th {\n",
       "        vertical-align: top;\n",
       "    }\n",
       "\n",
       "    .dataframe thead th {\n",
       "        text-align: right;\n",
       "    }\n",
       "</style>\n",
       "<table border=\"1\" class=\"dataframe\">\n",
       "  <thead>\n",
       "    <tr style=\"text-align: right;\">\n",
       "      <th></th>\n",
       "      <th>home</th>\n",
       "      <th>score</th>\n",
       "      <th>away</th>\n",
       "      <th>year</th>\n",
       "    </tr>\n",
       "  </thead>\n",
       "  <tbody>\n",
       "    <tr>\n",
       "      <th>37</th>\n",
       "      <td>Sweden</td>\n",
       "      <td>w/o[a]</td>\n",
       "      <td>Austria</td>\n",
       "      <td>1938</td>\n",
       "    </tr>\n",
       "  </tbody>\n",
       "</table>\n",
       "</div>"
      ],
      "text/plain": [
       "       home   score      away  year\n",
       "37  Sweden   w/o[a]   Austria  1938"
      ]
     },
     "execution_count": 13,
     "metadata": {},
     "output_type": "execute_result"
    }
   ],
   "source": [
    "df_historical_data[df_historical_data['home'].str.contains('Sweden') &\n",
    "                                  df_historical_data['away'].str.contains('Austria')]"
   ]
  },
  {
   "cell_type": "code",
   "execution_count": 15,
   "metadata": {},
   "outputs": [],
   "source": [
    "delete_index=df_historical_data[df_historical_data['home'].str.contains('Sweden') &\n",
    "                                  df_historical_data['away'].str.contains('Austria')].index\n",
    "\n",
    "df_historical_data.drop(index=delete_index, inplace=True)"
   ]
  },
  {
   "cell_type": "code",
   "execution_count": 17,
   "metadata": {},
   "outputs": [],
   "source": [
    "# cleanning score and home/away columns\n",
    "df_historical_data['score'] = df_historical_data['score'].str.replace('[^\\d–]', '', regex=True)\n",
    "df_historical_data['home'] = df_historical_data['home'].str.strip() # clean blank spaces: Yugoslavia twice\n",
    "df_historical_data['away'] = df_historical_data['away'].str.strip()"
   ]
  },
  {
   "cell_type": "code",
   "execution_count": 19,
   "metadata": {},
   "outputs": [],
   "source": [
    "# splitting score columns into home and away goals and dropping score column\n",
    "df_historical_data[['HomeGoals', 'AwayGoals']] = df_historical_data['score'].str.split('–', expand=True)\n",
    "df_historical_data.drop('score', axis=1, inplace=True)"
   ]
  },
  {
   "cell_type": "code",
   "execution_count": 21,
   "metadata": {},
   "outputs": [],
   "source": [
    "# renaming columns and changing data types\n",
    "df_historical_data.rename(columns={'home': 'HomeTeam', 'away': 'AwayTeam', \n",
    "                                   'year':'Year'}, inplace=True)\n",
    "df_historical_data = df_historical_data.astype({'HomeGoals': int, 'AwayGoals':int, 'Year': int})"
   ]
  },
  {
   "cell_type": "code",
   "execution_count": 24,
   "metadata": {},
   "outputs": [],
   "source": [
    "# creating new column \"totalgoals\"\n",
    "df_historical_data['TotalGoals'] = df_historical_data['HomeGoals'] + df_historical_data['AwayGoals']"
   ]
  },
  {
   "cell_type": "markdown",
   "metadata": {},
   "source": [
    "Exporting clean dataframes"
   ]
  },
  {
   "cell_type": "code",
   "execution_count": 25,
   "metadata": {},
   "outputs": [],
   "source": [
    "df_historical_data.to_csv('clean_fifa_worldcup_matches.csv',index=False)\n",
    "df_fixture.to_csv('clean_fifa_worldcup_fixture.csv',index=False)"
   ]
  },
  {
   "cell_type": "markdown",
   "metadata": {},
   "source": [
    "Verification"
   ]
  },
  {
   "cell_type": "code",
   "execution_count": 26,
   "metadata": {},
   "outputs": [
    {
     "name": "stdout",
     "output_type": "stream",
     "text": [
      "1930 18\n",
      "1934 17\n",
      "1938 18\n",
      "1950 22\n",
      "1954 26\n",
      "1958 35\n",
      "1962 32\n",
      "1966 32\n",
      "1970 32\n",
      "1974 38\n",
      "1978 38\n",
      "1982 52\n",
      "1986 52\n",
      "1990 52\n",
      "1994 52\n",
      "1998 64\n",
      "2002 64\n",
      "2006 64\n",
      "2010 64\n",
      "2014 64\n",
      "2018 64\n"
     ]
    }
   ],
   "source": [
    "# verify number of matches per competition\n",
    "years = [1930, 1934, 1938, 1950, 1954, 1958, 1962, 1966, 1970, 1974,\n",
    "         1978, 1982, 1986, 1990, 1994, 1998, 2002, 2006, 2010, 2014,\n",
    "         2018]\n",
    "\n",
    "for year in years:\n",
    "    print(year, len(df_historical_data[df_historical_data['Year']==year]))"
   ]
  },
  {
   "cell_type": "code",
   "execution_count": 27,
   "metadata": {},
   "outputs": [
    {
     "name": "stdout",
     "output_type": "stream",
     "text": [
      "    HomeTeam        AwayTeam  Year  HomeGoals  AwayGoals  TotalGoals\n",
      "8     Brazil         Bolivia  1930          4          0           4\n",
      "41    Brazil          Poland  1938          6          5          11\n",
      "49    Brazil  Czechoslovakia  1938          2          1           3\n",
      "52    Brazil          Sweden  1938          4          2           6\n",
      "48    Brazil  Czechoslovakia  1938          1          1           2\n",
      "..       ...             ...   ...        ...        ...         ...\n",
      "835   Brazil     Netherlands  2014          0          3           3\n",
      "862   Brazil     Switzerland  2018          1          1           2\n",
      "863   Brazil      Costa Rica  2018          2          0           2\n",
      "889   Brazil          Mexico  2018          2          0           2\n",
      "894   Brazil         Belgium  2018          1          2           3\n",
      "\n",
      "[82 rows x 6 columns]\n",
      "             HomeTeam AwayTeam  Year  HomeGoals  AwayGoals  TotalGoals\n",
      "6          Yugoslavia   Brazil  1930          2          1           3\n",
      "18              Spain   Brazil  1934          3          1           4\n",
      "51              Italy   Brazil  1938          2          1           3\n",
      "75            Uruguay   Brazil  1950          2          1           3\n",
      "97            Hungary   Brazil  1954          4          2           6\n",
      "183           Hungary   Brazil  1966          3          1           4\n",
      "185          Portugal   Brazil  1966          3          1           4\n",
      "229           Uruguay   Brazil  1970          1          3           4\n",
      "242          Scotland   Brazil  1974          0          0           0\n",
      "244             Zaire   Brazil  1974          0          3           3\n",
      "259         Argentina   Brazil  1974          1          2           3\n",
      "262       Netherlands   Brazil  1974          2          0           2\n",
      "304         Argentina   Brazil  1978          0          0           0\n",
      "352         Argentina   Brazil  1982          1          3           4\n",
      "353             Italy   Brazil  1982          3          2           5\n",
      "379             Spain   Brazil  1986          0          1           1\n",
      "383  Northern Ireland   Brazil  1986          0          3           3\n",
      "510       Netherlands   Brazil  1994          2          3           5\n",
      "514            Sweden   Brazil  1994          0          1           1\n",
      "597        Costa Rica   Brazil  2002          2          5           7\n",
      "644           Germany   Brazil  2002          0          2           2\n",
      "637           England   Brazil  2002          1          2           3\n",
      "679             Japan   Brazil  2006          1          4           5\n",
      "749          Portugal   Brazil  2010          0          0           0\n",
      "765       Netherlands   Brazil  2010          2          1           3\n",
      "777          Cameroon   Brazil  2014          1          4           5\n",
      "865            Serbia   Brazil  2018          0          2           2\n"
     ]
    }
   ],
   "source": [
    "# verify data collected for a team\n",
    "print(df_historical_data[df_historical_data['HomeTeam'].str.contains('Brazil')])\n",
    "print(df_historical_data[df_historical_data['AwayTeam'].str.contains('Brazil')])"
   ]
  },
  {
   "cell_type": "code",
   "execution_count": null,
   "metadata": {},
   "outputs": [],
   "source": []
  }
 ],
 "metadata": {
  "kernelspec": {
   "display_name": "Python 3",
   "language": "python",
   "name": "python3"
  },
  "language_info": {
   "codemirror_mode": {
    "name": "ipython",
    "version": 3
   },
   "file_extension": ".py",
   "mimetype": "text/x-python",
   "name": "python",
   "nbconvert_exporter": "python",
   "pygments_lexer": "ipython3",
   "version": "3.10.6"
  },
  "orig_nbformat": 4
 },
 "nbformat": 4,
 "nbformat_minor": 2
}
